{
 "cells": [
  {
   "cell_type": "code",
   "execution_count": 1,
   "metadata": {},
   "outputs": [],
   "source": [
    "using Flux\n",
    "using Flux.Tracker: gradient, update!\n",
    "using Printf"
   ]
  },
  {
   "cell_type": "markdown",
   "metadata": {},
   "source": [
    "# `gradient`\n",
    "\n",
    "Returns the \"rate of change\" of the function at the given values."
   ]
  },
  {
   "cell_type": "code",
   "execution_count": 2,
   "metadata": {},
   "outputs": [
    {
     "data": {
      "text/plain": [
       "d2f (generic function with 1 method)"
      ]
     },
     "execution_count": 2,
     "metadata": {},
     "output_type": "execute_result"
    }
   ],
   "source": [
    "f(x) = 3x^2 + 2x + 1\n",
    "df(x) = gradient(f, x; nest=true)[1] # 6x + 2\n",
    "d2f(x) = gradient(df, x)[1]          # 6"
   ]
  },
  {
   "cell_type": "code",
   "execution_count": 3,
   "metadata": {},
   "outputs": [
    {
     "name": "stdout",
     "output_type": "stream",
     "text": [
      "   1        8.0 (tracked)\n",
      "   2       14.0 (tracked)\n",
      "   3       20.0 (tracked)\n",
      "   4       26.0 (tracked)\n",
      "   5       32.0 (tracked)\n",
      "   6       38.0 (tracked)\n",
      "   7       44.0 (tracked)\n",
      "   8       50.0 (tracked)\n",
      "   9       56.0 (tracked)\n",
      "  10       62.0 (tracked)\n"
     ]
    }
   ],
   "source": [
    "for i in 1:10\n",
    "    @printf(\"%4d %20s\\n\", i, df(i))\n",
    "end"
   ]
  },
  {
   "cell_type": "code",
   "execution_count": 4,
   "metadata": {},
   "outputs": [
    {
     "name": "stdout",
     "output_type": "stream",
     "text": [
      "   1        6.0 (tracked)\n",
      "   2        6.0 (tracked)\n",
      "   3        6.0 (tracked)\n",
      "   4        6.0 (tracked)\n",
      "   5        6.0 (tracked)\n",
      "   6        6.0 (tracked)\n",
      "   7        6.0 (tracked)\n",
      "   8        6.0 (tracked)\n",
      "   9        6.0 (tracked)\n",
      "  10        6.0 (tracked)\n"
     ]
    }
   ],
   "source": [
    "for i in 1:10\n",
    "    @printf(\"%4d %20s\\n\", i, d2f(i))\n",
    "end"
   ]
  },
  {
   "cell_type": "code",
   "execution_count": 5,
   "metadata": {},
   "outputs": [
    {
     "data": {
      "text/plain": [
       "(7.0 (tracked), 3.0 (tracked))"
      ]
     },
     "execution_count": 5,
     "metadata": {},
     "output_type": "execute_result"
    }
   ],
   "source": [
    "f(a, b) = a*b\n",
    "# This will flip the arguments, because the \"rate of change\" of each depends on the other.\n",
    "gradient(f, 3, 7)"
   ]
  },
  {
   "cell_type": "markdown",
   "metadata": {},
   "source": [
    "# Linear Regression Example\n",
    "\n",
    "Here we train a \"neural network\" with 5 inputs and 2 outputs. There are no hidden layers, so I'm not sure if this is actually considered a neural network.\n",
    "\n",
    "Each of the two outputs is a weighted combination of the inputs plus a bias.\n",
    "\n",
    "We are training on a single data point of 5 parameters (`x`) and a single target of 2 parameters (`y`). Thus, we should be able to fit the model perfectly and get a loss very close to zero."
   ]
  },
  {
   "cell_type": "code",
   "execution_count": 6,
   "metadata": {},
   "outputs": [
    {
     "data": {
      "text/plain": [
       "4.160387594487831"
      ]
     },
     "execution_count": 6,
     "metadata": {},
     "output_type": "execute_result"
    }
   ],
   "source": [
    "W = rand(2, 5)\n",
    "b = rand(2)\n",
    "\n",
    "predict(x) = W*x .+ b\n",
    "\n",
    "function loss(x, y)\n",
    "    ŷ = predict(x)\n",
    "    sum((y .- ŷ).^2)\n",
    "end\n",
    "\n",
    "x, y = rand(5), rand(2)\n",
    "\n",
    "loss(x, y)"
   ]
  },
  {
   "cell_type": "code",
   "execution_count": 7,
   "metadata": {
    "scrolled": true
   },
   "outputs": [
    {
     "data": {
      "text/plain": [
       "Tracked 2-element Array{Float64,1}:\n",
       " 0.7052962440416521\n",
       " 0.8164580317072307"
      ]
     },
     "execution_count": 7,
     "metadata": {},
     "output_type": "execute_result"
    }
   ],
   "source": [
    "W = param(W)\n",
    "b = param(b)"
   ]
  },
  {
   "cell_type": "code",
   "execution_count": 8,
   "metadata": {},
   "outputs": [
    {
     "name": "stdout",
     "output_type": "stream",
     "text": [
      "1.547934579\n",
      "0.575932268\n",
      "0.214284235\n",
      "0.079727662\n",
      "0.029663872\n",
      "0.011036888\n",
      "0.004106440\n",
      "0.001527862\n",
      "0.000568464\n",
      "0.000211506\n"
     ]
    }
   ],
   "source": [
    "for epoch in 1:10\n",
    "    gradients = gradient(() -> loss(x, y), params(W, b))\n",
    "\n",
    "    update!(W, -0.1*gradients[W])\n",
    "    update!(b, -0.1*gradients[b])\n",
    "\n",
    "    @printf(\"%.9f\\n\", loss(x, y))\n",
    "end"
   ]
  }
 ],
 "metadata": {
  "kernelspec": {
   "display_name": "Julia 1.1.0",
   "language": "julia",
   "name": "julia-1.1"
  },
  "language_info": {
   "file_extension": ".jl",
   "mimetype": "application/julia",
   "name": "julia",
   "version": "1.1.0"
  }
 },
 "nbformat": 4,
 "nbformat_minor": 2
}
